{
  "nbformat": 4,
  "nbformat_minor": 0,
  "metadata": {
    "colab": {
      "provenance": [],
      "authorship_tag": "ABX9TyMFHpaCcxWqNVg9HkaIiv7V"
    },
    "kernelspec": {
      "name": "python3",
      "display_name": "Python 3"
    },
    "language_info": {
      "name": "python"
    }
  },
  "cells": [
    {
      "cell_type": "code",
      "execution_count": null,
      "metadata": {
        "colab": {
          "base_uri": "https://localhost:8080/"
        },
        "id": "uLu6xXBxy41c",
        "outputId": "ae2c0eb1-6ca7-4828-e71f-8613be283c3a"
      },
      "outputs": [
        {
          "output_type": "stream",
          "name": "stdout",
          "text": [
            "Collecting PyMuPDF\n",
            "  Downloading PyMuPDF-1.23.21-cp310-none-manylinux2014_x86_64.whl (4.4 MB)\n",
            "\u001b[2K     \u001b[90m━━━━━━━━━━━━━━━━━━━━━━━━━━━━━━━━━━━━━━━━\u001b[0m \u001b[32m4.4/4.4 MB\u001b[0m \u001b[31m12.6 MB/s\u001b[0m eta \u001b[36m0:00:00\u001b[0m\n",
            "\u001b[?25hCollecting PyMuPDFb==1.23.9 (from PyMuPDF)\n",
            "  Downloading PyMuPDFb-1.23.9-py3-none-manylinux2014_x86_64.manylinux_2_17_x86_64.whl (30.6 MB)\n",
            "\u001b[2K     \u001b[90m━━━━━━━━━━━━━━━━━━━━━━━━━━━━━━━━━━━━━━━━\u001b[0m \u001b[32m30.6/30.6 MB\u001b[0m \u001b[31m29.3 MB/s\u001b[0m eta \u001b[36m0:00:00\u001b[0m\n",
            "\u001b[?25hInstalling collected packages: PyMuPDFb, PyMuPDF\n",
            "Successfully installed PyMuPDF-1.23.21 PyMuPDFb-1.23.9\n",
            "Alireza\n"
          ]
        }
      ],
      "source": [
        "import fitz\n",
        "import re\n",
        "from PIL import Image\n",
        "\n",
        "doc = fitz.open(\"input.pdf\")\n",
        "first_name = \"\"\n",
        "rect = None\n",
        "\n",
        "for page_num in range(len(doc)):\n",
        "    page = doc.load_page(page_num)\n",
        "    text = page.get_text(\"text\")\n",
        "    match = re.search(r\"First Name:\\s*(\\S+)\", text)\n",
        "\n",
        "    if match:\n",
        "        first_name = match.group(1)\n",
        "        word_instances = page.search_for(\"First Name: \" + first_name)\n",
        "\n",
        "        if word_instances:\n",
        "            rect = word_instances[0]\n",
        "            break\n",
        "\n",
        "if first_name and rect:\n",
        "    zoom = 2\n",
        "    mat = fitz.Matrix(zoom, zoom)\n",
        "    clip = fitz.Rect(rect.x0, rect.y0, rect.x1, rect.y1)\n",
        "    pix = page.get_pixmap(matrix=mat, clip=clip)\n",
        "    img = Image.frombytes(\"RGB\", [pix.width, pix.height], pix.samples)\n",
        "    img.save(\"output.png\")\n",
        "\n",
        "print(first_name)\n"
      ]
    }
  ]
}